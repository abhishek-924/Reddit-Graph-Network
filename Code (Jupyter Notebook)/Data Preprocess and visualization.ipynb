{
 "cells": [
  {
   "cell_type": "code",
   "execution_count": 1,
   "id": "f30c98b7",
   "metadata": {},
   "outputs": [],
   "source": [
    "import pandas as pd\n",
    "import numpy as np \n",
    "import matplotlib as mpl\n",
    "from matplotlib import pyplot as plt\n",
    "from matplotlib.cm import ScalarMappable\n",
    "from matplotlib.lines import Line2D\n",
    "from mpl_toolkits.axes_grid1.inset_locator import inset_axes\n",
    "from textwrap import wrap\n",
    "import matplotlib.patches as mpatches"
   ]
  },
  {
   "cell_type": "code",
   "execution_count": 2,
   "id": "6a5dac31",
   "metadata": {},
   "outputs": [],
   "source": [
    "df_body = pd.read_csv('soc-redditHyperlinks-body.tsv', delimiter='\\t')"
   ]
  },
  {
   "cell_type": "code",
   "execution_count": 3,
   "id": "eeebbc64",
   "metadata": {},
   "outputs": [],
   "source": [
    "df_title = pd.read_csv('soc-redditHyperlinks-title.tsv', delimiter='\\t')"
   ]
  },
  {
   "cell_type": "code",
   "execution_count": 24,
   "id": "edcf1459",
   "metadata": {},
   "outputs": [],
   "source": [
    "df_usa = pd.read_csv('usa.csv')"
   ]
  },
  {
   "cell_type": "code",
   "execution_count": 5,
   "id": "81c31d25",
   "metadata": {},
   "outputs": [],
   "source": [
    "df_title['SOURCE_SUBREDDIT'] = df_title['SOURCE_SUBREDDIT'].astype(str)"
   ]
  },
  {
   "cell_type": "code",
   "execution_count": 6,
   "id": "267b2439",
   "metadata": {},
   "outputs": [],
   "source": [
    "df_title['TARGET_SUBREDDIT'] = df_title['TARGET_SUBREDDIT'].astype(str)"
   ]
  },
  {
   "cell_type": "code",
   "execution_count": 120,
   "id": "6ff71400",
   "metadata": {},
   "outputs": [
    {
     "name": "stdout",
     "output_type": "stream",
     "text": [
      "<class 'pandas.core.frame.DataFrame'>\n",
      "RangeIndex: 571927 entries, 0 to 571926\n",
      "Data columns (total 10 columns):\n",
      " #   Column            Non-Null Count   Dtype \n",
      "---  ------            --------------   ----- \n",
      " 0   SOURCE_SUBREDDIT  571927 non-null  object\n",
      " 1   TARGET_SUBREDDIT  571927 non-null  object\n",
      " 2   POST_ID           571927 non-null  object\n",
      " 3   TIMESTAMP         571927 non-null  object\n",
      " 4   LINK_SENTIMENT    571927 non-null  int64 \n",
      " 5   PROPERTIES        571927 non-null  object\n",
      " 6   year              571927 non-null  int64 \n",
      " 7   date              571927 non-null  object\n",
      " 8   month             571927 non-null  int64 \n",
      " 9   day               571927 non-null  int64 \n",
      "dtypes: int64(4), object(6)\n",
      "memory usage: 43.6+ MB\n"
     ]
    }
   ],
   "source": [
    "df_title.info()"
   ]
  },
  {
   "cell_type": "code",
   "execution_count": null,
   "id": "a6491446",
   "metadata": {},
   "outputs": [],
   "source": []
  },
  {
   "cell_type": "code",
   "execution_count": 7,
   "id": "6f19d09b",
   "metadata": {},
   "outputs": [],
   "source": [
    "source =['usa', 'america', 'us', 'unitedstates','usofa', 'unitedstatesofamerica', 'US','USA','USofA','UnitedStatesofAmerica', 'whitehouse', 'republican','democrats','WhiteHouse']\n",
    "target = ['guns','violence','black','muslin','islam','terrorism','crime','drugs','BLM','antivaccer','racewar','racism','shoot','riot','protest','assualt','suicide','kill','death','bomb','rape','sexual','bully','harass','porn']\n",
    "pattern1 = '|'.join(source)\n",
    "pattern2 = '|'.join(target)"
   ]
  },
  {
   "cell_type": "code",
   "execution_count": 8,
   "id": "e6fecc80",
   "metadata": {},
   "outputs": [],
   "source": [
    "source2 =['stock','wallstreet','bets']\n",
    "target2 = ['guns','violence','black','muslin','islam','terror','crime','drugs','BLM','antivaccer','racewar','racism','shoot','riot','protest','assualt','suicide','kill','death','bomb','rape','sexual','bully','harass','kidnap','abduct']\n",
    "pattern11 = '|'.join(source2)\n",
    "pattern2 = '|'.join(target2)"
   ]
  },
  {
   "cell_type": "code",
   "execution_count": 200,
   "id": "7bed6a02",
   "metadata": {
    "scrolled": true
   },
   "outputs": [],
   "source": [
    "df_graph= df_title.loc[(df_title['SOURCE_SUBREDDIT'].str.contains(pattern1,case=False)) & (df_title['TARGET_SUBREDDIT'].str.contains('politics',case=False))]"
   ]
  },
  {
   "cell_type": "code",
   "execution_count": 266,
   "id": "9efa2b07",
   "metadata": {},
   "outputs": [
    {
     "data": {
      "text/html": [
       "<div>\n",
       "<style scoped>\n",
       "    .dataframe tbody tr th:only-of-type {\n",
       "        vertical-align: middle;\n",
       "    }\n",
       "\n",
       "    .dataframe tbody tr th {\n",
       "        vertical-align: top;\n",
       "    }\n",
       "\n",
       "    .dataframe thead th {\n",
       "        text-align: right;\n",
       "    }\n",
       "</style>\n",
       "<table border=\"1\" class=\"dataframe\">\n",
       "  <thead>\n",
       "    <tr style=\"text-align: right;\">\n",
       "      <th></th>\n",
       "      <th>SOURCE_SUBREDDIT</th>\n",
       "      <th>TARGET_SUBREDDIT</th>\n",
       "      <th>POST_ID</th>\n",
       "      <th>TIMESTAMP</th>\n",
       "      <th>LINK_SENTIMENT</th>\n",
       "      <th>PROPERTIES</th>\n",
       "      <th>year</th>\n",
       "      <th>date</th>\n",
       "      <th>month</th>\n",
       "      <th>day</th>\n",
       "    </tr>\n",
       "  </thead>\n",
       "  <tbody>\n",
       "    <tr>\n",
       "      <th>1237</th>\n",
       "      <td>exmuslim</td>\n",
       "      <td>islam</td>\n",
       "      <td>1uiywp</td>\n",
       "      <td>2014-01-06 00:08:21</td>\n",
       "      <td>-1</td>\n",
       "      <td>48.0,43.0,0.791666666667,0.0,0.104166666667,0....</td>\n",
       "      <td>2014</td>\n",
       "      <td>2014-01-06</td>\n",
       "      <td>1</td>\n",
       "      <td>6</td>\n",
       "    </tr>\n",
       "    <tr>\n",
       "      <th>4052</th>\n",
       "      <td>shitamericanssay</td>\n",
       "      <td>gunsarecool</td>\n",
       "      <td>1v9jda</td>\n",
       "      <td>2014-01-15 02:32:18</td>\n",
       "      <td>-1</td>\n",
       "      <td>300.0,251.0,0.786666666667,0.0,0.116666666667,...</td>\n",
       "      <td>2014</td>\n",
       "      <td>2014-01-15</td>\n",
       "      <td>1</td>\n",
       "      <td>15</td>\n",
       "    </tr>\n",
       "    <tr>\n",
       "      <th>5041</th>\n",
       "      <td>muslimnofap</td>\n",
       "      <td>islam</td>\n",
       "      <td>1vj5vgs</td>\n",
       "      <td>2014-01-18 10:05:19</td>\n",
       "      <td>1</td>\n",
       "      <td>29.0,27.0,0.827586206897,0.0,0.275862068966,0....</td>\n",
       "      <td>2014</td>\n",
       "      <td>2014-01-18</td>\n",
       "      <td>1</td>\n",
       "      <td>18</td>\n",
       "    </tr>\n",
       "    <tr>\n",
       "      <th>5762</th>\n",
       "      <td>exmuslim</td>\n",
       "      <td>islam</td>\n",
       "      <td>1vqgg6s</td>\n",
       "      <td>2014-01-20 19:29:31</td>\n",
       "      <td>1</td>\n",
       "      <td>40.0,35.0,0.75,0.0,0.125,0.15,0.1,8.0,8.0,1.0,...</td>\n",
       "      <td>2014</td>\n",
       "      <td>2014-01-20</td>\n",
       "      <td>1</td>\n",
       "      <td>20</td>\n",
       "    </tr>\n",
       "    <tr>\n",
       "      <th>6491</th>\n",
       "      <td>exmuslim</td>\n",
       "      <td>islam</td>\n",
       "      <td>1vxo1b</td>\n",
       "      <td>2014-01-23 03:16:09</td>\n",
       "      <td>-1</td>\n",
       "      <td>115.0,98.0,0.782608695652,0.0,0.0608695652174,...</td>\n",
       "      <td>2014</td>\n",
       "      <td>2014-01-23</td>\n",
       "      <td>1</td>\n",
       "      <td>23</td>\n",
       "    </tr>\n",
       "    <tr>\n",
       "      <th>...</th>\n",
       "      <td>...</td>\n",
       "      <td>...</td>\n",
       "      <td>...</td>\n",
       "      <td>...</td>\n",
       "      <td>...</td>\n",
       "      <td>...</td>\n",
       "      <td>...</td>\n",
       "      <td>...</td>\n",
       "      <td>...</td>\n",
       "      <td>...</td>\n",
       "    </tr>\n",
       "    <tr>\n",
       "      <th>565103</th>\n",
       "      <td>exmuslim</td>\n",
       "      <td>islam</td>\n",
       "      <td>66m2lss</td>\n",
       "      <td>2017-04-20 18:07:07</td>\n",
       "      <td>1</td>\n",
       "      <td>86.0,75.0,0.779069767442,0.0,0.0697674418605,0...</td>\n",
       "      <td>2017</td>\n",
       "      <td>2017-04-20</td>\n",
       "      <td>4</td>\n",
       "      <td>20</td>\n",
       "    </tr>\n",
       "    <tr>\n",
       "      <th>566740</th>\n",
       "      <td>jesuschristreddit</td>\n",
       "      <td>blackpeopletwitter</td>\n",
       "      <td>674cqzs</td>\n",
       "      <td>2017-04-23 12:49:21</td>\n",
       "      <td>1</td>\n",
       "      <td>69.0,60.0,0.840579710145,0.0,0.0869565217391,0...</td>\n",
       "      <td>2017</td>\n",
       "      <td>2017-04-23</td>\n",
       "      <td>4</td>\n",
       "      <td>23</td>\n",
       "    </tr>\n",
       "    <tr>\n",
       "      <th>567308</th>\n",
       "      <td>exmuslim</td>\n",
       "      <td>islam</td>\n",
       "      <td>67arlks</td>\n",
       "      <td>2017-04-24 10:54:31</td>\n",
       "      <td>1</td>\n",
       "      <td>121.0,105.0,0.793388429752,0.0,0.0743801652893...</td>\n",
       "      <td>2017</td>\n",
       "      <td>2017-04-24</td>\n",
       "      <td>4</td>\n",
       "      <td>24</td>\n",
       "    </tr>\n",
       "    <tr>\n",
       "      <th>569433</th>\n",
       "      <td>jesuschristreddit</td>\n",
       "      <td>blackpeopletwitter</td>\n",
       "      <td>67vbu5s</td>\n",
       "      <td>2017-04-27 04:59:36</td>\n",
       "      <td>1</td>\n",
       "      <td>21.0,20.0,0.857142857143,0.0,0.333333333333,0....</td>\n",
       "      <td>2017</td>\n",
       "      <td>2017-04-27</td>\n",
       "      <td>4</td>\n",
       "      <td>27</td>\n",
       "    </tr>\n",
       "    <tr>\n",
       "      <th>571784</th>\n",
       "      <td>exmuslim</td>\n",
       "      <td>islam</td>\n",
       "      <td>68hh6as</td>\n",
       "      <td>2017-04-30 13:13:14</td>\n",
       "      <td>1</td>\n",
       "      <td>111.0,96.0,0.783783783784,0.0,0.126126126126,0...</td>\n",
       "      <td>2017</td>\n",
       "      <td>2017-04-30</td>\n",
       "      <td>4</td>\n",
       "      <td>30</td>\n",
       "    </tr>\n",
       "  </tbody>\n",
       "</table>\n",
       "<p>363 rows × 10 columns</p>\n",
       "</div>"
      ],
      "text/plain": [
       "         SOURCE_SUBREDDIT    TARGET_SUBREDDIT  POST_ID            TIMESTAMP  \\\n",
       "1237             exmuslim               islam   1uiywp  2014-01-06 00:08:21   \n",
       "4052     shitamericanssay         gunsarecool   1v9jda  2014-01-15 02:32:18   \n",
       "5041          muslimnofap               islam  1vj5vgs  2014-01-18 10:05:19   \n",
       "5762             exmuslim               islam  1vqgg6s  2014-01-20 19:29:31   \n",
       "6491             exmuslim               islam   1vxo1b  2014-01-23 03:16:09   \n",
       "...                   ...                 ...      ...                  ...   \n",
       "565103           exmuslim               islam  66m2lss  2017-04-20 18:07:07   \n",
       "566740  jesuschristreddit  blackpeopletwitter  674cqzs  2017-04-23 12:49:21   \n",
       "567308           exmuslim               islam  67arlks  2017-04-24 10:54:31   \n",
       "569433  jesuschristreddit  blackpeopletwitter  67vbu5s  2017-04-27 04:59:36   \n",
       "571784           exmuslim               islam  68hh6as  2017-04-30 13:13:14   \n",
       "\n",
       "        LINK_SENTIMENT                                         PROPERTIES  \\\n",
       "1237                -1  48.0,43.0,0.791666666667,0.0,0.104166666667,0....   \n",
       "4052                -1  300.0,251.0,0.786666666667,0.0,0.116666666667,...   \n",
       "5041                 1  29.0,27.0,0.827586206897,0.0,0.275862068966,0....   \n",
       "5762                 1  40.0,35.0,0.75,0.0,0.125,0.15,0.1,8.0,8.0,1.0,...   \n",
       "6491                -1  115.0,98.0,0.782608695652,0.0,0.0608695652174,...   \n",
       "...                ...                                                ...   \n",
       "565103               1  86.0,75.0,0.779069767442,0.0,0.0697674418605,0...   \n",
       "566740               1  69.0,60.0,0.840579710145,0.0,0.0869565217391,0...   \n",
       "567308               1  121.0,105.0,0.793388429752,0.0,0.0743801652893...   \n",
       "569433               1  21.0,20.0,0.857142857143,0.0,0.333333333333,0....   \n",
       "571784               1  111.0,96.0,0.783783783784,0.0,0.126126126126,0...   \n",
       "\n",
       "        year        date  month  day  \n",
       "1237    2014  2014-01-06      1    6  \n",
       "4052    2014  2014-01-15      1   15  \n",
       "5041    2014  2014-01-18      1   18  \n",
       "5762    2014  2014-01-20      1   20  \n",
       "6491    2014  2014-01-23      1   23  \n",
       "...      ...         ...    ...  ...  \n",
       "565103  2017  2017-04-20      4   20  \n",
       "566740  2017  2017-04-23      4   23  \n",
       "567308  2017  2017-04-24      4   24  \n",
       "569433  2017  2017-04-27      4   27  \n",
       "571784  2017  2017-04-30      4   30  \n",
       "\n",
       "[363 rows x 10 columns]"
      ]
     },
     "execution_count": 266,
     "metadata": {},
     "output_type": "execute_result"
    }
   ],
   "source": [
    "df_title.loc[(df_title['SOURCE_SUBREDDIT'].str.contains(pattern,case=False)) & (df_title['TARGET_SUBREDDIT'].str.contains(pattern2,case=False))]"
   ]
  },
  {
   "cell_type": "code",
   "execution_count": 261,
   "id": "9738251e",
   "metadata": {},
   "outputs": [],
   "source": [
    "bets=df_title.loc[(df_title['SOURCE_SUBREDDIT'].str.contains(pattern11,case=False))]"
   ]
  },
  {
   "cell_type": "code",
   "execution_count": 262,
   "id": "6b62b1be",
   "metadata": {},
   "outputs": [],
   "source": [
    "bets.to_csv(\"bets.csv\")"
   ]
  },
  {
   "cell_type": "code",
   "execution_count": 207,
   "id": "269a0610",
   "metadata": {},
   "outputs": [],
   "source": [
    "df_911.to_csv(\"911_data.csv\")"
   ]
  },
  {
   "cell_type": "code",
   "execution_count": 203,
   "id": "38671753",
   "metadata": {
    "scrolled": true
   },
   "outputs": [],
   "source": [
    "df_graph.to_csv(\"nodes.csv\")"
   ]
  },
  {
   "cell_type": "code",
   "execution_count": 22,
   "id": "e1af986d",
   "metadata": {
    "scrolled": true
   },
   "outputs": [],
   "source": [
    "#new_frame=df_body.groupby('SOURCE_SUBREDDIT')\n"
   ]
  },
  {
   "cell_type": "code",
   "execution_count": null,
   "id": "60243e7d",
   "metadata": {},
   "outputs": [],
   "source": []
  },
  {
   "cell_type": "code",
   "execution_count": 9,
   "id": "2b29bd3c",
   "metadata": {},
   "outputs": [],
   "source": [
    "source_list_body = df_body['SOURCE_SUBREDDIT']\n",
    "source_list_body = source_list_body.unique().tolist()"
   ]
  },
  {
   "cell_type": "code",
   "execution_count": 10,
   "id": "fd0aee4c",
   "metadata": {},
   "outputs": [],
   "source": [
    "target_list_body = df_body['TARGET_SUBREDDIT']\n",
    "target_list_body = target_list_body.unique().tolist()"
   ]
  },
  {
   "cell_type": "code",
   "execution_count": 11,
   "id": "e5139228",
   "metadata": {},
   "outputs": [],
   "source": [
    "list_source_target = source_list_body\n",
    "list_source_target.extend(target_list_body)"
   ]
  },
  {
   "cell_type": "code",
   "execution_count": 12,
   "id": "19094250",
   "metadata": {
    "scrolled": true
   },
   "outputs": [
    {
     "name": "stdout",
     "output_type": "stream",
     "text": [
      "Unique Vertices - 35776\n"
     ]
    }
   ],
   "source": [
    "Vertices = list(dict.fromkeys(source_list_body))\n",
    "Vertices.sort()\n",
    "print(\"Unique Vertices -\",len(Vertices))"
   ]
  },
  {
   "cell_type": "code",
   "execution_count": 13,
   "id": "1a48af6e",
   "metadata": {},
   "outputs": [
    {
     "name": "stdout",
     "output_type": "stream",
     "text": [
      "Unique Edges - 137821\n"
     ]
    }
   ],
   "source": [
    "x_edges = zip(df_body['SOURCE_SUBREDDIT'],df_body['TARGET_SUBREDDIT'])\n",
    "Edge_list = list(x_edges)\n",
    "Edges_list = list(dict.fromkeys(Edge_list))\n",
    "print(\"Unique Edges -\",len(Edges_list))"
   ]
  },
  {
   "cell_type": "code",
   "execution_count": 14,
   "id": "6346e98a",
   "metadata": {},
   "outputs": [],
   "source": [
    "#Edge list\n",
    "vert = len(Vertices)\n",
    "\n",
    "A_Mat = np.zeros((vert,vert),dtype=int)\n",
    "for i in Edges_list:\n",
    "    a = Vertices.index(i[0])\n",
    "    b = Vertices.index(i[1])\n",
    "    A_Mat[a][b]=1"
   ]
  },
  {
   "cell_type": "code",
   "execution_count": 15,
   "id": "cb11bfba",
   "metadata": {
    "scrolled": true
   },
   "outputs": [],
   "source": [
    "#Adj Mat\n",
    "Adj_list = list()\n",
    "for s in range(vert):\n",
    "    Adj_list.append([])\n",
    "\n",
    "for i in Edges_list:\n",
    "    a = Vertices.index(i[0])\n",
    "    b = Vertices.index(i[1])\n",
    "\n",
    "    Adj_list[a].append(i[1])"
   ]
  },
  {
   "cell_type": "code",
   "execution_count": 16,
   "id": "23f21e61",
   "metadata": {},
   "outputs": [],
   "source": [
    "#Adj list\n",
    "V_count = 0    \n",
    "out_degree = dict()\n",
    "cnt = list()\n",
    "for i in range(len(Adj_list)):\n",
    "    V_count = len(Adj_list[i])\n",
    "    x = [Vertices[i],V_count]\n",
    "    cnt.append(x)\n",
    "    out_degree[Vertices[i]] = Adj_list[i]"
   ]
  },
  {
   "cell_type": "code",
   "execution_count": 17,
   "id": "0eafcb47",
   "metadata": {},
   "outputs": [],
   "source": [
    "def custom_clust(elem):\n",
    "    return(elem[1])\n",
    "\n",
    "def custom_func(elem):\n",
    "    return(elem[1])"
   ]
  },
  {
   "cell_type": "code",
   "execution_count": 18,
   "id": "bc5784fb",
   "metadata": {},
   "outputs": [],
   "source": [
    "cnt.sort(key=custom_func,reverse=True)\n",
    "cnt\n",
    "cnt_new = cnt[:10]\n",
    "popularName = [x[0] for x in cnt_new]\n",
    "popularNo = [x[1] for x in cnt_new]\n",
    "y_pos = np.arange(len(popularName))"
   ]
  },
  {
   "cell_type": "code",
   "execution_count": 33,
   "id": "8e5ba199",
   "metadata": {},
   "outputs": [
    {
     "data": {
      "text/plain": [
       "['subredditdrama',\n",
       " 'copypasta',\n",
       " 'drama',\n",
       " 'subredditoftheday',\n",
       " 'outoftheloop',\n",
       " 'circlejerkcopypasta',\n",
       " 'tipofmypenis',\n",
       " 'shitliberalssay',\n",
       " 'justunsubbed',\n",
       " 'conspiracy']"
      ]
     },
     "execution_count": 33,
     "metadata": {},
     "output_type": "execute_result"
    }
   ],
   "source": [
    "popularName"
   ]
  },
  {
   "cell_type": "code",
   "execution_count": 34,
   "id": "f7ba9841",
   "metadata": {
    "scrolled": true
   },
   "outputs": [
    {
     "data": {
      "image/png": "[encoded data removed]",
      "text/plain": [
       "<Figure size 1008x576 with 1 Axes>"
      ]
     },
     "metadata": {
      "needs_background": "light"
     },
     "output_type": "display_data"
    }
   ],
   "source": [
    "plt.figure(figsize=(14, 8))\n",
    "plt.barh(popularName, popularNo)\n",
    "#plt.bar(y_pos, popularNo, align='center', alpha=0.8,color='#F78F1E')\n",
    "#plt.xticks(y_pos, popularName,rotation='vertical')\n",
    "plt.ylabel('Connections')\n",
    "plt.title('Popular Subreddits')\n",
    "plt.show()"
   ]
  },
  {
   "cell_type": "code",
   "execution_count": 35,
   "id": "2307fa79",
   "metadata": {},
   "outputs": [
    {
     "name": "stderr",
     "output_type": "stream",
     "text": [
      "<ipython-input-35-4b0d455dae86>:3: UserWarning: FixedFormatter should only be used together with FixedLocator\n",
      "  ax.set_xticklabels(popularName, rotation=45)\n"
     ]
    },
    {
     "data": {
      "image/png": "[encoded data removed]",
      "text/plain": [
       "<Figure size 432x288 with 1 Axes>"
      ]
     },
     "metadata": {
      "needs_background": "light"
     },
     "output_type": "display_data"
    }
   ],
   "source": [
    "fig,ax= plt.subplots()\n",
    "ax.bar(popularName, popularNo)[0].set_color(\"green\")\n",
    "ax.set_xticklabels(popularName, rotation=45)\n",
    "ax.set_xlabel(\"Subreddit names\")\n",
    "ax.set_ylabel(\"Connections\")\n",
    "ax.plot(popularName,popularNo, color='red', marker ='o', linestyle = 'dashed', linewidth = 2)\n",
    "plt.show()"
   ]
  },
  {
   "cell_type": "code",
   "execution_count": 25,
   "id": "fe051919",
   "metadata": {},
   "outputs": [
    {
     "data": {
      "text/html": [
       "<div>\n",
       "<style scoped>\n",
       "    .dataframe tbody tr th:only-of-type {\n",
       "        vertical-align: middle;\n",
       "    }\n",
       "\n",
       "    .dataframe tbody tr th {\n",
       "        vertical-align: top;\n",
       "    }\n",
       "\n",
       "    .dataframe thead th {\n",
       "        text-align: right;\n",
       "    }\n",
       "</style>\n",
       "<table border=\"1\" class=\"dataframe\">\n",
       "  <thead>\n",
       "    <tr style=\"text-align: right;\">\n",
       "      <th></th>\n",
       "      <th>Unnamed: 0</th>\n",
       "      <th>SOURCE_SUBREDDIT</th>\n",
       "      <th>TARGET_SUBREDDIT</th>\n",
       "      <th>POST_ID</th>\n",
       "      <th>TIMESTAMP</th>\n",
       "      <th>LINK_SENTIMENT</th>\n",
       "      <th>PROPERTIES</th>\n",
       "    </tr>\n",
       "  </thead>\n",
       "  <tbody>\n",
       "    <tr>\n",
       "      <th>0</th>\n",
       "      <td>53</td>\n",
       "      <td>shitamericanssay</td>\n",
       "      <td>funny</td>\n",
       "      <td>1u5uv0s</td>\n",
       "      <td>2014-01-01 09:19:18</td>\n",
       "      <td>1</td>\n",
       "      <td>43.0,37.0,0.697674418605,0.093023255814,0.1395...</td>\n",
       "    </tr>\n",
       "    <tr>\n",
       "      <th>1</th>\n",
       "      <td>58</td>\n",
       "      <td>shitamericanssay</td>\n",
       "      <td>worldpolitics</td>\n",
       "      <td>1u5y76s</td>\n",
       "      <td>2014-01-01 09:19:18</td>\n",
       "      <td>1</td>\n",
       "      <td>105.0,88.0,0.733333333333,0.0380952380952,0.09...</td>\n",
       "    </tr>\n",
       "    <tr>\n",
       "      <th>2</th>\n",
       "      <td>71</td>\n",
       "      <td>shitamericanssay</td>\n",
       "      <td>askreddit</td>\n",
       "      <td>1u645bs</td>\n",
       "      <td>2014-01-01 09:46:35</td>\n",
       "      <td>1</td>\n",
       "      <td>65.0,57.0,0.815384615385,0.0,0.123076923077,0....</td>\n",
       "    </tr>\n",
       "    <tr>\n",
       "      <th>3</th>\n",
       "      <td>74</td>\n",
       "      <td>floridagators</td>\n",
       "      <td>bestof</td>\n",
       "      <td>1u651es</td>\n",
       "      <td>2014-01-01 13:07:19</td>\n",
       "      <td>1</td>\n",
       "      <td>94.0,81.0,0.787234042553,0.0212765957447,0.095...</td>\n",
       "    </tr>\n",
       "    <tr>\n",
       "      <th>4</th>\n",
       "      <td>226</td>\n",
       "      <td>srsbusiness</td>\n",
       "      <td>changemyview</td>\n",
       "      <td>1u7v8js</td>\n",
       "      <td>2014-01-02 12:34:17</td>\n",
       "      <td>1</td>\n",
       "      <td>165.0,139.0,0.8,0.0,0.0606060606061,0.16363636...</td>\n",
       "    </tr>\n",
       "    <tr>\n",
       "      <th>...</th>\n",
       "      <td>...</td>\n",
       "      <td>...</td>\n",
       "      <td>...</td>\n",
       "      <td>...</td>\n",
       "      <td>...</td>\n",
       "      <td>...</td>\n",
       "      <td>...</td>\n",
       "    </tr>\n",
       "    <tr>\n",
       "      <th>28454</th>\n",
       "      <td>571830</td>\n",
       "      <td>jesuschristreddit</td>\n",
       "      <td>imgoingtohellforthis</td>\n",
       "      <td>68hyg8s</td>\n",
       "      <td>2017-04-30 13:25:25</td>\n",
       "      <td>1</td>\n",
       "      <td>44.0,39.0,0.840909090909,0.0,0.136363636364,0....</td>\n",
       "    </tr>\n",
       "    <tr>\n",
       "      <th>28455</th>\n",
       "      <td>571838</td>\n",
       "      <td>justiceserved</td>\n",
       "      <td>news</td>\n",
       "      <td>68i0kzs</td>\n",
       "      <td>2017-04-30 15:22:11</td>\n",
       "      <td>1</td>\n",
       "      <td>108.0,94.0,0.824074074074,0.0,0.157407407407,0...</td>\n",
       "    </tr>\n",
       "    <tr>\n",
       "      <th>28456</th>\n",
       "      <td>571860</td>\n",
       "      <td>elitepatreus</td>\n",
       "      <td>elitedangerous</td>\n",
       "      <td>68i65zs</td>\n",
       "      <td>2017-04-30 14:56:08</td>\n",
       "      <td>1</td>\n",
       "      <td>104.0,90.0,0.807692307692,0.0192307692308,0.18...</td>\n",
       "    </tr>\n",
       "    <tr>\n",
       "      <th>28457</th>\n",
       "      <td>571861</td>\n",
       "      <td>elite_dangerous</td>\n",
       "      <td>elitedangerous</td>\n",
       "      <td>68i67ds</td>\n",
       "      <td>2017-04-30 14:56:18</td>\n",
       "      <td>1</td>\n",
       "      <td>104.0,90.0,0.807692307692,0.0192307692308,0.18...</td>\n",
       "    </tr>\n",
       "    <tr>\n",
       "      <th>28458</th>\n",
       "      <td>571881</td>\n",
       "      <td>jesuschristreddit</td>\n",
       "      <td>dae</td>\n",
       "      <td>68ich3s</td>\n",
       "      <td>2017-04-30 16:26:21</td>\n",
       "      <td>1</td>\n",
       "      <td>30.0,27.0,0.766666666667,0.0,0.2,0.13333333333...</td>\n",
       "    </tr>\n",
       "  </tbody>\n",
       "</table>\n",
       "<p>28459 rows × 7 columns</p>\n",
       "</div>"
      ],
      "text/plain": [
       "       Unnamed: 0   SOURCE_SUBREDDIT      TARGET_SUBREDDIT  POST_ID  \\\n",
       "0              53   shitamericanssay                 funny  1u5uv0s   \n",
       "1              58   shitamericanssay         worldpolitics  1u5y76s   \n",
       "2              71   shitamericanssay             askreddit  1u645bs   \n",
       "3              74      floridagators                bestof  1u651es   \n",
       "4             226        srsbusiness          changemyview  1u7v8js   \n",
       "...           ...                ...                   ...      ...   \n",
       "28454      571830  jesuschristreddit  imgoingtohellforthis  68hyg8s   \n",
       "28455      571838      justiceserved                  news  68i0kzs   \n",
       "28456      571860       elitepatreus        elitedangerous  68i65zs   \n",
       "28457      571861    elite_dangerous        elitedangerous  68i67ds   \n",
       "28458      571881  jesuschristreddit                   dae  68ich3s   \n",
       "\n",
       "                 TIMESTAMP  LINK_SENTIMENT  \\\n",
       "0      2014-01-01 09:19:18               1   \n",
       "1      2014-01-01 09:19:18               1   \n",
       "2      2014-01-01 09:46:35               1   \n",
       "3      2014-01-01 13:07:19               1   \n",
       "4      2014-01-02 12:34:17               1   \n",
       "...                    ...             ...   \n",
       "28454  2017-04-30 13:25:25               1   \n",
       "28455  2017-04-30 15:22:11               1   \n",
       "28456  2017-04-30 14:56:08               1   \n",
       "28457  2017-04-30 14:56:18               1   \n",
       "28458  2017-04-30 16:26:21               1   \n",
       "\n",
       "                                              PROPERTIES  \n",
       "0      43.0,37.0,0.697674418605,0.093023255814,0.1395...  \n",
       "1      105.0,88.0,0.733333333333,0.0380952380952,0.09...  \n",
       "2      65.0,57.0,0.815384615385,0.0,0.123076923077,0....  \n",
       "3      94.0,81.0,0.787234042553,0.0212765957447,0.095...  \n",
       "4      165.0,139.0,0.8,0.0,0.0606060606061,0.16363636...  \n",
       "...                                                  ...  \n",
       "28454  44.0,39.0,0.840909090909,0.0,0.136363636364,0....  \n",
       "28455  108.0,94.0,0.824074074074,0.0,0.157407407407,0...  \n",
       "28456  104.0,90.0,0.807692307692,0.0192307692308,0.18...  \n",
       "28457  104.0,90.0,0.807692307692,0.0192307692308,0.18...  \n",
       "28458  30.0,27.0,0.766666666667,0.0,0.2,0.13333333333...  \n",
       "\n",
       "[28459 rows x 7 columns]"
      ]
     },
     "execution_count": 25,
     "metadata": {},
     "output_type": "execute_result"
    }
   ],
   "source": [
    "df_usa"
   ]
  },
  {
   "cell_type": "code",
   "execution_count": 2,
   "id": "fc6315c7",
   "metadata": {},
   "outputs": [],
   "source": [
    "df_combine1 = pd.read_csv(\"trump.csv\")"
   ]
  },
  {
   "cell_type": "code",
   "execution_count": 6,
   "id": "e78ab9c9",
   "metadata": {},
   "outputs": [],
   "source": [
    "df_combine2= pd.read_csv(\"Nodedata2.csv\")\n",
    "df = [df_combine1, df_combine2]\n",
    "df_combined_final = pd.concat(df)"
   ]
  },
  {
   "cell_type": "code",
   "execution_count": 7,
   "id": "65f5f4ae",
   "metadata": {},
   "outputs": [
    {
     "data": {
      "text/html": [
       "<div>\n",
       "<style scoped>\n",
       "    .dataframe tbody tr th:only-of-type {\n",
       "        vertical-align: middle;\n",
       "    }\n",
       "\n",
       "    .dataframe tbody tr th {\n",
       "        vertical-align: top;\n",
       "    }\n",
       "\n",
       "    .dataframe thead th {\n",
       "        text-align: right;\n",
       "    }\n",
       "</style>\n",
       "<table border=\"1\" class=\"dataframe\">\n",
       "  <thead>\n",
       "    <tr style=\"text-align: right;\">\n",
       "      <th></th>\n",
       "      <th>Unnamed: 0</th>\n",
       "      <th>SOURCE_SUBREDDIT</th>\n",
       "      <th>TARGET_SUBREDDIT</th>\n",
       "      <th>POST_ID</th>\n",
       "      <th>TIMESTAMP</th>\n",
       "      <th>LINK_SENTIMENT</th>\n",
       "      <th>PROPERTIES</th>\n",
       "      <th>year</th>\n",
       "      <th>date</th>\n",
       "      <th>month</th>\n",
       "      <th>day</th>\n",
       "      <th>count</th>\n",
       "      <th>Unnamed: 12</th>\n",
       "    </tr>\n",
       "  </thead>\n",
       "  <tbody>\n",
       "    <tr>\n",
       "      <th>0</th>\n",
       "      <td>230926</td>\n",
       "      <td>the_donald</td>\n",
       "      <td>whiterights</td>\n",
       "      <td>3getny</td>\n",
       "      <td>2015-08-09 19:07</td>\n",
       "      <td>-1</td>\n",
       "      <td>190.0,166.0,0.778947368421,0.0157894736842,0.0...</td>\n",
       "      <td>2015.0</td>\n",
       "      <td>2015-08-09</td>\n",
       "      <td>8.0</td>\n",
       "      <td>9.0</td>\n",
       "      <td>163.0</td>\n",
       "      <td>32.6</td>\n",
       "    </tr>\n",
       "    <tr>\n",
       "      <th>1</th>\n",
       "      <td>231600</td>\n",
       "      <td>youcantstumpthetrump</td>\n",
       "      <td>sandersforpresident</td>\n",
       "      <td>3gk8e0</td>\n",
       "      <td>2015-08-11 0:22</td>\n",
       "      <td>-1</td>\n",
       "      <td>110.0,97.0,0.836363636364,0.0,0.0909090909091,...</td>\n",
       "      <td>2015.0</td>\n",
       "      <td>2015-08-11</td>\n",
       "      <td>8.0</td>\n",
       "      <td>11.0</td>\n",
       "      <td>-1.0</td>\n",
       "      <td>-0.2</td>\n",
       "    </tr>\n",
       "    <tr>\n",
       "      <th>2</th>\n",
       "      <td>235875</td>\n",
       "      <td>hillaryclinton</td>\n",
       "      <td>sandersforpresident</td>\n",
       "      <td>3hhnz1s</td>\n",
       "      <td>2015-08-18 15:13</td>\n",
       "      <td>1</td>\n",
       "      <td>95.0,87.0,0.842105263158,0.0,0.0947368421053,0...</td>\n",
       "      <td>2015.0</td>\n",
       "      <td>2015-08-18</td>\n",
       "      <td>8.0</td>\n",
       "      <td>18.0</td>\n",
       "      <td>38.0</td>\n",
       "      <td>7.6</td>\n",
       "    </tr>\n",
       "    <tr>\n",
       "      <th>3</th>\n",
       "      <td>268901</td>\n",
       "      <td>the_donald</td>\n",
       "      <td>sandersforpresident</td>\n",
       "      <td>3pyylv</td>\n",
       "      <td>2015-10-23 23:23</td>\n",
       "      <td>-1</td>\n",
       "      <td>94.0,83.0,0.81914893617,0.0,0.106382978723,0.1...</td>\n",
       "      <td>2015.0</td>\n",
       "      <td>2015-10-23</td>\n",
       "      <td>10.0</td>\n",
       "      <td>23.0</td>\n",
       "      <td>163.0</td>\n",
       "      <td>32.6</td>\n",
       "    </tr>\n",
       "    <tr>\n",
       "      <th>4</th>\n",
       "      <td>275293</td>\n",
       "      <td>shittrumpsays</td>\n",
       "      <td>votetrumpyouloser</td>\n",
       "      <td>3rp5e7s</td>\n",
       "      <td>2015-11-06 2:07</td>\n",
       "      <td>1</td>\n",
       "      <td>74.0,66.0,0.851351351351,0.0,0.148648648649,0....</td>\n",
       "      <td>2015.0</td>\n",
       "      <td>2015-11-06</td>\n",
       "      <td>11.0</td>\n",
       "      <td>6.0</td>\n",
       "      <td>2.0</td>\n",
       "      <td>0.4</td>\n",
       "    </tr>\n",
       "    <tr>\n",
       "      <th>...</th>\n",
       "      <td>...</td>\n",
       "      <td>...</td>\n",
       "      <td>...</td>\n",
       "      <td>...</td>\n",
       "      <td>...</td>\n",
       "      <td>...</td>\n",
       "      <td>...</td>\n",
       "      <td>...</td>\n",
       "      <td>...</td>\n",
       "      <td>...</td>\n",
       "      <td>...</td>\n",
       "      <td>...</td>\n",
       "      <td>...</td>\n",
       "    </tr>\n",
       "    <tr>\n",
       "      <th>17530</th>\n",
       "      <td>286450</td>\n",
       "      <td>subredditdrama</td>\n",
       "      <td>vive</td>\n",
       "      <td>68govn</td>\n",
       "      <td>2017-04-30 10:10:03</td>\n",
       "      <td>-1</td>\n",
       "      <td>554.0,480.0,0.752707581227,0.00902527075812,0....</td>\n",
       "      <td>NaN</td>\n",
       "      <td>NaN</td>\n",
       "      <td>NaN</td>\n",
       "      <td>NaN</td>\n",
       "      <td>NaN</td>\n",
       "      <td>NaN</td>\n",
       "    </tr>\n",
       "    <tr>\n",
       "      <th>17531</th>\n",
       "      <td>286468</td>\n",
       "      <td>subredditdrama</td>\n",
       "      <td>gifrecipes</td>\n",
       "      <td>68h22ls</td>\n",
       "      <td>2017-04-30 11:45:53</td>\n",
       "      <td>1</td>\n",
       "      <td>839.0,780.0,0.753277711561,0.0333730631704,0.0...</td>\n",
       "      <td>NaN</td>\n",
       "      <td>NaN</td>\n",
       "      <td>NaN</td>\n",
       "      <td>NaN</td>\n",
       "      <td>NaN</td>\n",
       "      <td>NaN</td>\n",
       "    </tr>\n",
       "    <tr>\n",
       "      <th>17532</th>\n",
       "      <td>286531</td>\n",
       "      <td>tipofmypenis</td>\n",
       "      <td>porn</td>\n",
       "      <td>68i3fus</td>\n",
       "      <td>2017-04-30 14:53:45</td>\n",
       "      <td>1</td>\n",
       "      <td>495.0,417.0,0.769696969697,0.00808080808081,0....</td>\n",
       "      <td>NaN</td>\n",
       "      <td>NaN</td>\n",
       "      <td>NaN</td>\n",
       "      <td>NaN</td>\n",
       "      <td>NaN</td>\n",
       "      <td>NaN</td>\n",
       "    </tr>\n",
       "    <tr>\n",
       "      <th>17533</th>\n",
       "      <td>286544</td>\n",
       "      <td>justunsubbed</td>\n",
       "      <td>thriftstorehauls</td>\n",
       "      <td>68ib3es</td>\n",
       "      <td>2017-04-30 16:23:47</td>\n",
       "      <td>1</td>\n",
       "      <td>6332.0,5154.0,0.765634870499,0.00505369551485,...</td>\n",
       "      <td>NaN</td>\n",
       "      <td>NaN</td>\n",
       "      <td>NaN</td>\n",
       "      <td>NaN</td>\n",
       "      <td>NaN</td>\n",
       "      <td>NaN</td>\n",
       "    </tr>\n",
       "    <tr>\n",
       "      <th>17534</th>\n",
       "      <td>286554</td>\n",
       "      <td>subredditdrama</td>\n",
       "      <td>funny</td>\n",
       "      <td>68iigy</td>\n",
       "      <td>2017-04-30 16:05:45</td>\n",
       "      <td>-1</td>\n",
       "      <td>345.0,305.0,0.747826086957,0.0173913043478,0.0...</td>\n",
       "      <td>NaN</td>\n",
       "      <td>NaN</td>\n",
       "      <td>NaN</td>\n",
       "      <td>NaN</td>\n",
       "      <td>NaN</td>\n",
       "      <td>NaN</td>\n",
       "    </tr>\n",
       "  </tbody>\n",
       "</table>\n",
       "<p>18318 rows × 13 columns</p>\n",
       "</div>"
      ],
      "text/plain": [
       "       Unnamed: 0      SOURCE_SUBREDDIT     TARGET_SUBREDDIT  POST_ID  \\\n",
       "0          230926            the_donald          whiterights   3getny   \n",
       "1          231600  youcantstumpthetrump  sandersforpresident   3gk8e0   \n",
       "2          235875        hillaryclinton  sandersforpresident  3hhnz1s   \n",
       "3          268901            the_donald  sandersforpresident   3pyylv   \n",
       "4          275293         shittrumpsays    votetrumpyouloser  3rp5e7s   \n",
       "...           ...                   ...                  ...      ...   \n",
       "17530      286450        subredditdrama                 vive   68govn   \n",
       "17531      286468        subredditdrama           gifrecipes  68h22ls   \n",
       "17532      286531          tipofmypenis                 porn  68i3fus   \n",
       "17533      286544          justunsubbed     thriftstorehauls  68ib3es   \n",
       "17534      286554        subredditdrama                funny   68iigy   \n",
       "\n",
       "                 TIMESTAMP  LINK_SENTIMENT  \\\n",
       "0         2015-08-09 19:07              -1   \n",
       "1          2015-08-11 0:22              -1   \n",
       "2         2015-08-18 15:13               1   \n",
       "3         2015-10-23 23:23              -1   \n",
       "4          2015-11-06 2:07               1   \n",
       "...                    ...             ...   \n",
       "17530  2017-04-30 10:10:03              -1   \n",
       "17531  2017-04-30 11:45:53               1   \n",
       "17532  2017-04-30 14:53:45               1   \n",
       "17533  2017-04-30 16:23:47               1   \n",
       "17534  2017-04-30 16:05:45              -1   \n",
       "\n",
       "                                              PROPERTIES    year        date  \\\n",
       "0      190.0,166.0,0.778947368421,0.0157894736842,0.0...  2015.0  2015-08-09   \n",
       "1      110.0,97.0,0.836363636364,0.0,0.0909090909091,...  2015.0  2015-08-11   \n",
       "2      95.0,87.0,0.842105263158,0.0,0.0947368421053,0...  2015.0  2015-08-18   \n",
       "3      94.0,83.0,0.81914893617,0.0,0.106382978723,0.1...  2015.0  2015-10-23   \n",
       "4      74.0,66.0,0.851351351351,0.0,0.148648648649,0....  2015.0  2015-11-06   \n",
       "...                                                  ...     ...         ...   \n",
       "17530  554.0,480.0,0.752707581227,0.00902527075812,0....     NaN         NaN   \n",
       "17531  839.0,780.0,0.753277711561,0.0333730631704,0.0...     NaN         NaN   \n",
       "17532  495.0,417.0,0.769696969697,0.00808080808081,0....     NaN         NaN   \n",
       "17533  6332.0,5154.0,0.765634870499,0.00505369551485,...     NaN         NaN   \n",
       "17534  345.0,305.0,0.747826086957,0.0173913043478,0.0...     NaN         NaN   \n",
       "\n",
       "       month   day  count  Unnamed: 12  \n",
       "0        8.0   9.0  163.0         32.6  \n",
       "1        8.0  11.0   -1.0         -0.2  \n",
       "2        8.0  18.0   38.0          7.6  \n",
       "3       10.0  23.0  163.0         32.6  \n",
       "4       11.0   6.0    2.0          0.4  \n",
       "...      ...   ...    ...          ...  \n",
       "17530    NaN   NaN    NaN          NaN  \n",
       "17531    NaN   NaN    NaN          NaN  \n",
       "17532    NaN   NaN    NaN          NaN  \n",
       "17533    NaN   NaN    NaN          NaN  \n",
       "17534    NaN   NaN    NaN          NaN  \n",
       "\n",
       "[18318 rows x 13 columns]"
      ]
     },
     "execution_count": 7,
     "metadata": {},
     "output_type": "execute_result"
    }
   ],
   "source": [
    "df_combined_final"
   ]
  },
  {
   "cell_type": "code",
   "execution_count": 8,
   "id": "ff18d71a",
   "metadata": {},
   "outputs": [
    {
     "data": {
      "text/html": [
       "<div>\n",
       "<style scoped>\n",
       "    .dataframe tbody tr th:only-of-type {\n",
       "        vertical-align: middle;\n",
       "    }\n",
       "\n",
       "    .dataframe tbody tr th {\n",
       "        vertical-align: top;\n",
       "    }\n",
       "\n",
       "    .dataframe thead th {\n",
       "        text-align: right;\n",
       "    }\n",
       "</style>\n",
       "<table border=\"1\" class=\"dataframe\">\n",
       "  <thead>\n",
       "    <tr style=\"text-align: right;\">\n",
       "      <th></th>\n",
       "      <th>SOURCE_SUBREDDIT</th>\n",
       "      <th>LINK_SENTIMENT</th>\n",
       "      <th>counts</th>\n",
       "    </tr>\n",
       "  </thead>\n",
       "  <tbody>\n",
       "    <tr>\n",
       "      <th>62</th>\n",
       "      <td>subredditdrama</td>\n",
       "      <td>1</td>\n",
       "      <td>3228</td>\n",
       "    </tr>\n",
       "    <tr>\n",
       "      <th>46</th>\n",
       "      <td>outoftheloop</td>\n",
       "      <td>1</td>\n",
       "      <td>1820</td>\n",
       "    </tr>\n",
       "    <tr>\n",
       "      <th>55</th>\n",
       "      <td>shitliberalssay</td>\n",
       "      <td>1</td>\n",
       "      <td>1561</td>\n",
       "    </tr>\n",
       "    <tr>\n",
       "      <th>14</th>\n",
       "      <td>copypasta</td>\n",
       "      <td>1</td>\n",
       "      <td>1452</td>\n",
       "    </tr>\n",
       "    <tr>\n",
       "      <th>61</th>\n",
       "      <td>subredditdrama</td>\n",
       "      <td>-1</td>\n",
       "      <td>1437</td>\n",
       "    </tr>\n",
       "    <tr>\n",
       "      <th>...</th>\n",
       "      <td>...</td>\n",
       "      <td>...</td>\n",
       "      <td>...</td>\n",
       "    </tr>\n",
       "    <tr>\n",
       "      <th>86</th>\n",
       "      <td>trump_fashions</td>\n",
       "      <td>1</td>\n",
       "      <td>1</td>\n",
       "    </tr>\n",
       "    <tr>\n",
       "      <th>87</th>\n",
       "      <td>trump_god</td>\n",
       "      <td>1</td>\n",
       "      <td>1</td>\n",
       "    </tr>\n",
       "    <tr>\n",
       "      <th>34</th>\n",
       "      <td>impeachtrump</td>\n",
       "      <td>1</td>\n",
       "      <td>1</td>\n",
       "    </tr>\n",
       "    <tr>\n",
       "      <th>33</th>\n",
       "      <td>impeachtrump</td>\n",
       "      <td>-1</td>\n",
       "      <td>1</td>\n",
       "    </tr>\n",
       "    <tr>\n",
       "      <th>116</th>\n",
       "      <td>youcantstumpthetrump</td>\n",
       "      <td>-1</td>\n",
       "      <td>1</td>\n",
       "    </tr>\n",
       "  </tbody>\n",
       "</table>\n",
       "<p>117 rows × 3 columns</p>\n",
       "</div>"
      ],
      "text/plain": [
       "         SOURCE_SUBREDDIT  LINK_SENTIMENT  counts\n",
       "62         subredditdrama               1    3228\n",
       "46           outoftheloop               1    1820\n",
       "55        shitliberalssay               1    1561\n",
       "14              copypasta               1    1452\n",
       "61         subredditdrama              -1    1437\n",
       "..                    ...             ...     ...\n",
       "86         trump_fashions               1       1\n",
       "87              trump_god               1       1\n",
       "34           impeachtrump               1       1\n",
       "33           impeachtrump              -1       1\n",
       "116  youcantstumpthetrump              -1       1\n",
       "\n",
       "[117 rows x 3 columns]"
      ]
     },
     "execution_count": 8,
     "metadata": {},
     "output_type": "execute_result"
    }
   ],
   "source": [
    "new_frame = df_combined_final.groupby(['SOURCE_SUBREDDIT','LINK_SENTIMENT']).size().reset_index(name='counts')\n",
    "new_frame.sort_values('counts',ascending=False)"
   ]
  },
  {
   "cell_type": "code",
   "execution_count": 9,
   "id": "1c849960",
   "metadata": {
    "scrolled": true
   },
   "outputs": [],
   "source": [
    "new_frame_positive = new_frame.loc[new_frame['LINK_SENTIMENT'] == 1]\n",
    "new_frame_positive = new_frame_positive.sort_values('counts',ascending=False)"
   ]
  },
  {
   "cell_type": "code",
   "execution_count": 18,
   "id": "8d1dedf9",
   "metadata": {},
   "outputs": [],
   "source": [
    "counts_pos = [3567,1097,733,700,580,546,520,510,460,450]\n",
    "counts_neg = [1604,764,329,300,268,289,279,260,200,200]"
   ]
  },
  {
   "cell_type": "code",
   "execution_count": 11,
   "id": "781f814c",
   "metadata": {},
   "outputs": [],
   "source": [
    "new_frame_negative = new_frame.loc[new_frame['LINK_SENTIMENT'] == -1]\n",
    "new_frame_negative= new_frame_negative.sort_values('counts',ascending=False)"
   ]
  },
  {
   "cell_type": "code",
   "execution_count": 12,
   "id": "a9021e0e",
   "metadata": {},
   "outputs": [],
   "source": [
    "new_frame_positive=new_frame_positive.head(10)"
   ]
  },
  {
   "cell_type": "code",
   "execution_count": 13,
   "id": "73cd72c1",
   "metadata": {},
   "outputs": [
    {
     "data": {
      "text/html": [
       "<div>\n",
       "<style scoped>\n",
       "    .dataframe tbody tr th:only-of-type {\n",
       "        vertical-align: middle;\n",
       "    }\n",
       "\n",
       "    .dataframe tbody tr th {\n",
       "        vertical-align: top;\n",
       "    }\n",
       "\n",
       "    .dataframe thead th {\n",
       "        text-align: right;\n",
       "    }\n",
       "</style>\n",
       "<table border=\"1\" class=\"dataframe\">\n",
       "  <thead>\n",
       "    <tr style=\"text-align: right;\">\n",
       "      <th></th>\n",
       "      <th>SOURCE_SUBREDDIT</th>\n",
       "      <th>LINK_SENTIMENT</th>\n",
       "      <th>counts</th>\n",
       "    </tr>\n",
       "  </thead>\n",
       "  <tbody>\n",
       "    <tr>\n",
       "      <th>62</th>\n",
       "      <td>subredditdrama</td>\n",
       "      <td>1</td>\n",
       "      <td>3228</td>\n",
       "    </tr>\n",
       "    <tr>\n",
       "      <th>46</th>\n",
       "      <td>outoftheloop</td>\n",
       "      <td>1</td>\n",
       "      <td>1820</td>\n",
       "    </tr>\n",
       "    <tr>\n",
       "      <th>55</th>\n",
       "      <td>shitliberalssay</td>\n",
       "      <td>1</td>\n",
       "      <td>1561</td>\n",
       "    </tr>\n",
       "    <tr>\n",
       "      <th>14</th>\n",
       "      <td>copypasta</td>\n",
       "      <td>1</td>\n",
       "      <td>1452</td>\n",
       "    </tr>\n",
       "    <tr>\n",
       "      <th>84</th>\n",
       "      <td>tipofmypenis</td>\n",
       "      <td>1</td>\n",
       "      <td>1201</td>\n",
       "    </tr>\n",
       "    <tr>\n",
       "      <th>12</th>\n",
       "      <td>conspiracy</td>\n",
       "      <td>1</td>\n",
       "      <td>1181</td>\n",
       "    </tr>\n",
       "    <tr>\n",
       "      <th>10</th>\n",
       "      <td>circlejerkcopypasta</td>\n",
       "      <td>1</td>\n",
       "      <td>1137</td>\n",
       "    </tr>\n",
       "    <tr>\n",
       "      <th>36</th>\n",
       "      <td>justunsubbed</td>\n",
       "      <td>1</td>\n",
       "      <td>930</td>\n",
       "    </tr>\n",
       "    <tr>\n",
       "      <th>22</th>\n",
       "      <td>drama</td>\n",
       "      <td>1</td>\n",
       "      <td>788</td>\n",
       "    </tr>\n",
       "    <tr>\n",
       "      <th>64</th>\n",
       "      <td>subredditoftheday</td>\n",
       "      <td>1</td>\n",
       "      <td>580</td>\n",
       "    </tr>\n",
       "  </tbody>\n",
       "</table>\n",
       "</div>"
      ],
      "text/plain": [
       "       SOURCE_SUBREDDIT  LINK_SENTIMENT  counts\n",
       "62       subredditdrama               1    3228\n",
       "46         outoftheloop               1    1820\n",
       "55      shitliberalssay               1    1561\n",
       "14            copypasta               1    1452\n",
       "84         tipofmypenis               1    1201\n",
       "12           conspiracy               1    1181\n",
       "10  circlejerkcopypasta               1    1137\n",
       "36         justunsubbed               1     930\n",
       "22                drama               1     788\n",
       "64    subredditoftheday               1     580"
      ]
     },
     "execution_count": 13,
     "metadata": {},
     "output_type": "execute_result"
    }
   ],
   "source": [
    "new_frame_positive"
   ]
  },
  {
   "cell_type": "code",
   "execution_count": 32,
   "id": "bfccd23c",
   "metadata": {},
   "outputs": [],
   "source": [
    "new_frame_negative=new_frame_negative.head(10)"
   ]
  },
  {
   "cell_type": "code",
   "execution_count": 33,
   "id": "93bf1562",
   "metadata": {},
   "outputs": [
    {
     "data": {
      "text/html": [
       "<div>\n",
       "<style scoped>\n",
       "    .dataframe tbody tr th:only-of-type {\n",
       "        vertical-align: middle;\n",
       "    }\n",
       "\n",
       "    .dataframe tbody tr th {\n",
       "        vertical-align: top;\n",
       "    }\n",
       "\n",
       "    .dataframe thead th {\n",
       "        text-align: right;\n",
       "    }\n",
       "</style>\n",
       "<table border=\"1\" class=\"dataframe\">\n",
       "  <thead>\n",
       "    <tr style=\"text-align: right;\">\n",
       "      <th></th>\n",
       "      <th>SOURCE_SUBREDDIT</th>\n",
       "      <th>LINK_SENTIMENT</th>\n",
       "      <th>counts</th>\n",
       "    </tr>\n",
       "  </thead>\n",
       "  <tbody>\n",
       "    <tr>\n",
       "      <th>2035</th>\n",
       "      <td>shitamericanssay</td>\n",
       "      <td>-1</td>\n",
       "      <td>717</td>\n",
       "    </tr>\n",
       "    <tr>\n",
       "      <th>1122</th>\n",
       "      <td>jesuschristreddit</td>\n",
       "      <td>-1</td>\n",
       "      <td>169</td>\n",
       "    </tr>\n",
       "    <tr>\n",
       "      <th>1246</th>\n",
       "      <td>justunsubbed</td>\n",
       "      <td>-1</td>\n",
       "      <td>143</td>\n",
       "    </tr>\n",
       "    <tr>\n",
       "      <th>445</th>\n",
       "      <td>circlejerkaustralia</td>\n",
       "      <td>-1</td>\n",
       "      <td>114</td>\n",
       "    </tr>\n",
       "    <tr>\n",
       "      <th>2554</th>\n",
       "      <td>wtfdidijustread</td>\n",
       "      <td>-1</td>\n",
       "      <td>103</td>\n",
       "    </tr>\n",
       "    <tr>\n",
       "      <th>1855</th>\n",
       "      <td>pussified</td>\n",
       "      <td>-1</td>\n",
       "      <td>94</td>\n",
       "    </tr>\n",
       "    <tr>\n",
       "      <th>13</th>\n",
       "      <td>abuseinterrupted</td>\n",
       "      <td>-1</td>\n",
       "      <td>75</td>\n",
       "    </tr>\n",
       "    <tr>\n",
       "      <th>2359</th>\n",
       "      <td>upvotedbecausegirl</td>\n",
       "      <td>-1</td>\n",
       "      <td>64</td>\n",
       "    </tr>\n",
       "    <tr>\n",
       "      <th>720</th>\n",
       "      <td>exmuslim</td>\n",
       "      <td>-1</td>\n",
       "      <td>64</td>\n",
       "    </tr>\n",
       "    <tr>\n",
       "      <th>1210</th>\n",
       "      <td>justneckbeardthings</td>\n",
       "      <td>-1</td>\n",
       "      <td>47</td>\n",
       "    </tr>\n",
       "  </tbody>\n",
       "</table>\n",
       "</div>"
      ],
      "text/plain": [
       "         SOURCE_SUBREDDIT  LINK_SENTIMENT  counts\n",
       "2035     shitamericanssay              -1     717\n",
       "1122    jesuschristreddit              -1     169\n",
       "1246         justunsubbed              -1     143\n",
       "445   circlejerkaustralia              -1     114\n",
       "2554      wtfdidijustread              -1     103\n",
       "1855            pussified              -1      94\n",
       "13       abuseinterrupted              -1      75\n",
       "2359   upvotedbecausegirl              -1      64\n",
       "720              exmuslim              -1      64\n",
       "1210  justneckbeardthings              -1      47"
      ]
     },
     "execution_count": 33,
     "metadata": {},
     "output_type": "execute_result"
    }
   ],
   "source": [
    "new_frame_negative"
   ]
  },
  {
   "cell_type": "code",
   "execution_count": 19,
   "id": "98a6211a",
   "metadata": {},
   "outputs": [
    {
     "name": "stderr",
     "output_type": "stream",
     "text": [
      "No handles with labels found to put in legend.\n"
     ]
    },
    {
     "data": {
      "text/plain": [
       "<matplotlib.legend.Legend at 0x1208245f070>"
      ]
     },
     "execution_count": 19,
     "metadata": {},
     "output_type": "execute_result"
    },
    {
     "data": {
      "image/png": "[encoded data removed]",
      "text/plain": [
       "<Figure size 720x360 with 1 Axes>"
      ]
     },
     "metadata": {
      "needs_background": "light"
     },
     "output_type": "display_data"
    }
   ],
   "source": [
    "fig,ax= plt.subplots(1,1,figsize=(10,5))\n",
    "\n",
    "ax.barh(names,counts_pos,color='green')\n",
    "ax.barh(names,counts_neg,color='red')\n",
    "ax.set_xlabel('Link Sentiments',fontsize=12)\n",
    "ax.set_ylabel('Subreddits',fontsize=12)\n",
    "ax.set_title('Sentimental Analysis of the top 10 active subreddits related to 2016 US elections/DonaldTrump',fontsize=15)\n",
    "ax.legend(loc=\"upper right\")\n",
    "\n",
    "red_patch = mpatches.Patch(color='red', label='Negative Sentiment')\n",
    "green_patch = mpatches.Patch(color='green', label='Neutral or Positive Sentiment')\n",
    "\n",
    "plt.legend(handles=[green_patch,red_patch])"
   ]
  },
  {
   "cell_type": "code",
   "execution_count": 44,
   "id": "a83fa583",
   "metadata": {
    "scrolled": true
   },
   "outputs": [],
   "source": [
    "df_body['year'] = pd.DatetimeIndex(df_body['TIMESTAMP']).year\n",
    "df_body['date']=pd.to_datetime(df_body['TIMESTAMP']).dt.date\n",
    "df_body['month']=pd.to_datetime(df_body.TIMESTAMP,format='%Y-%m-%d %H:%M:%S').dt.month\n",
    "df_body['day']=pd.to_datetime(df_body.TIMESTAMP,format='%Y-%m-%d %H:%M:%S').dt.day"
   ]
  },
  {
   "cell_type": "code",
   "execution_count": 45,
   "id": "e2a2ec74",
   "metadata": {},
   "outputs": [
    {
     "data": {
      "text/html": [
       "<div>\n",
       "<style scoped>\n",
       "    .dataframe tbody tr th:only-of-type {\n",
       "        vertical-align: middle;\n",
       "    }\n",
       "\n",
       "    .dataframe tbody tr th {\n",
       "        vertical-align: top;\n",
       "    }\n",
       "\n",
       "    .dataframe thead th {\n",
       "        text-align: right;\n",
       "    }\n",
       "</style>\n",
       "<table border=\"1\" class=\"dataframe\">\n",
       "  <thead>\n",
       "    <tr style=\"text-align: right;\">\n",
       "      <th></th>\n",
       "      <th>SOURCE_SUBREDDIT</th>\n",
       "      <th>TARGET_SUBREDDIT</th>\n",
       "      <th>POST_ID</th>\n",
       "      <th>TIMESTAMP</th>\n",
       "      <th>LINK_SENTIMENT</th>\n",
       "      <th>PROPERTIES</th>\n",
       "      <th>year</th>\n",
       "      <th>date</th>\n",
       "      <th>month</th>\n",
       "      <th>day</th>\n",
       "    </tr>\n",
       "  </thead>\n",
       "  <tbody>\n",
       "    <tr>\n",
       "      <th>0</th>\n",
       "      <td>leagueoflegends</td>\n",
       "      <td>teamredditteams</td>\n",
       "      <td>1u4nrps</td>\n",
       "      <td>2013-12-31 16:39:58</td>\n",
       "      <td>1</td>\n",
       "      <td>345.0,298.0,0.75652173913,0.0173913043478,0.08...</td>\n",
       "      <td>2013</td>\n",
       "      <td>2013-12-31</td>\n",
       "      <td>12</td>\n",
       "      <td>31</td>\n",
       "    </tr>\n",
       "    <tr>\n",
       "      <th>1</th>\n",
       "      <td>theredlion</td>\n",
       "      <td>soccer</td>\n",
       "      <td>1u4qkd</td>\n",
       "      <td>2013-12-31 18:18:37</td>\n",
       "      <td>-1</td>\n",
       "      <td>101.0,98.0,0.742574257426,0.019801980198,0.049...</td>\n",
       "      <td>2013</td>\n",
       "      <td>2013-12-31</td>\n",
       "      <td>12</td>\n",
       "      <td>31</td>\n",
       "    </tr>\n",
       "    <tr>\n",
       "      <th>2</th>\n",
       "      <td>inlandempire</td>\n",
       "      <td>bikela</td>\n",
       "      <td>1u4qlzs</td>\n",
       "      <td>2014-01-01 14:54:35</td>\n",
       "      <td>1</td>\n",
       "      <td>85.0,85.0,0.752941176471,0.0235294117647,0.082...</td>\n",
       "      <td>2014</td>\n",
       "      <td>2014-01-01</td>\n",
       "      <td>1</td>\n",
       "      <td>1</td>\n",
       "    </tr>\n",
       "    <tr>\n",
       "      <th>3</th>\n",
       "      <td>nfl</td>\n",
       "      <td>cfb</td>\n",
       "      <td>1u4sjvs</td>\n",
       "      <td>2013-12-31 17:37:55</td>\n",
       "      <td>1</td>\n",
       "      <td>1124.0,949.0,0.772241992883,0.0017793594306,0....</td>\n",
       "      <td>2013</td>\n",
       "      <td>2013-12-31</td>\n",
       "      <td>12</td>\n",
       "      <td>31</td>\n",
       "    </tr>\n",
       "    <tr>\n",
       "      <th>4</th>\n",
       "      <td>playmygame</td>\n",
       "      <td>gamedev</td>\n",
       "      <td>1u4w5ss</td>\n",
       "      <td>2014-01-01 02:51:13</td>\n",
       "      <td>1</td>\n",
       "      <td>715.0,622.0,0.777622377622,0.00699300699301,0....</td>\n",
       "      <td>2014</td>\n",
       "      <td>2014-01-01</td>\n",
       "      <td>1</td>\n",
       "      <td>1</td>\n",
       "    </tr>\n",
       "    <tr>\n",
       "      <th>...</th>\n",
       "      <td>...</td>\n",
       "      <td>...</td>\n",
       "      <td>...</td>\n",
       "      <td>...</td>\n",
       "      <td>...</td>\n",
       "      <td>...</td>\n",
       "      <td>...</td>\n",
       "      <td>...</td>\n",
       "      <td>...</td>\n",
       "      <td>...</td>\n",
       "    </tr>\n",
       "    <tr>\n",
       "      <th>286556</th>\n",
       "      <td>negareddit</td>\n",
       "      <td>debatefascism</td>\n",
       "      <td>68im20s</td>\n",
       "      <td>2017-04-30 16:31:26</td>\n",
       "      <td>1</td>\n",
       "      <td>441.0,405.0,0.775510204082,0.0294784580499,0.0...</td>\n",
       "      <td>2017</td>\n",
       "      <td>2017-04-30</td>\n",
       "      <td>4</td>\n",
       "      <td>30</td>\n",
       "    </tr>\n",
       "    <tr>\n",
       "      <th>286557</th>\n",
       "      <td>mildlynomil</td>\n",
       "      <td>justnomil</td>\n",
       "      <td>68imlas</td>\n",
       "      <td>2017-04-30 04:19:03</td>\n",
       "      <td>1</td>\n",
       "      <td>2226.0,1855.0,0.786163522013,0.00224618149146,...</td>\n",
       "      <td>2017</td>\n",
       "      <td>2017-04-30</td>\n",
       "      <td>4</td>\n",
       "      <td>30</td>\n",
       "    </tr>\n",
       "    <tr>\n",
       "      <th>286558</th>\n",
       "      <td>mmorpg</td>\n",
       "      <td>blackdesertonline</td>\n",
       "      <td>68ip5os</td>\n",
       "      <td>2017-04-30 16:54:08</td>\n",
       "      <td>1</td>\n",
       "      <td>1100.0,909.0,0.778181818182,0.00181818181818,0...</td>\n",
       "      <td>2017</td>\n",
       "      <td>2017-04-30</td>\n",
       "      <td>4</td>\n",
       "      <td>30</td>\n",
       "    </tr>\n",
       "    <tr>\n",
       "      <th>286559</th>\n",
       "      <td>electricskateboards</td>\n",
       "      <td>askreddit</td>\n",
       "      <td>68ipb2s</td>\n",
       "      <td>2017-04-30 16:41:53</td>\n",
       "      <td>1</td>\n",
       "      <td>1876.0,1567.0,0.78144989339,0.00692963752665,0...</td>\n",
       "      <td>2017</td>\n",
       "      <td>2017-04-30</td>\n",
       "      <td>4</td>\n",
       "      <td>30</td>\n",
       "    </tr>\n",
       "    <tr>\n",
       "      <th>286560</th>\n",
       "      <td>mgtow</td>\n",
       "      <td>dataisbeautiful</td>\n",
       "      <td>68ipeos</td>\n",
       "      <td>2017-04-30 16:52:59</td>\n",
       "      <td>1</td>\n",
       "      <td>1129.0,975.0,0.795394154119,0.0150575730735,0....</td>\n",
       "      <td>2017</td>\n",
       "      <td>2017-04-30</td>\n",
       "      <td>4</td>\n",
       "      <td>30</td>\n",
       "    </tr>\n",
       "  </tbody>\n",
       "</table>\n",
       "<p>286561 rows × 10 columns</p>\n",
       "</div>"
      ],
      "text/plain": [
       "           SOURCE_SUBREDDIT   TARGET_SUBREDDIT  POST_ID            TIMESTAMP  \\\n",
       "0           leagueoflegends    teamredditteams  1u4nrps  2013-12-31 16:39:58   \n",
       "1                theredlion             soccer   1u4qkd  2013-12-31 18:18:37   \n",
       "2              inlandempire             bikela  1u4qlzs  2014-01-01 14:54:35   \n",
       "3                       nfl                cfb  1u4sjvs  2013-12-31 17:37:55   \n",
       "4                playmygame            gamedev  1u4w5ss  2014-01-01 02:51:13   \n",
       "...                     ...                ...      ...                  ...   \n",
       "286556           negareddit      debatefascism  68im20s  2017-04-30 16:31:26   \n",
       "286557          mildlynomil          justnomil  68imlas  2017-04-30 04:19:03   \n",
       "286558               mmorpg  blackdesertonline  68ip5os  2017-04-30 16:54:08   \n",
       "286559  electricskateboards          askreddit  68ipb2s  2017-04-30 16:41:53   \n",
       "286560                mgtow    dataisbeautiful  68ipeos  2017-04-30 16:52:59   \n",
       "\n",
       "        LINK_SENTIMENT                                         PROPERTIES  \\\n",
       "0                    1  345.0,298.0,0.75652173913,0.0173913043478,0.08...   \n",
       "1                   -1  101.0,98.0,0.742574257426,0.019801980198,0.049...   \n",
       "2                    1  85.0,85.0,0.752941176471,0.0235294117647,0.082...   \n",
       "3                    1  1124.0,949.0,0.772241992883,0.0017793594306,0....   \n",
       "4                    1  715.0,622.0,0.777622377622,0.00699300699301,0....   \n",
       "...                ...                                                ...   \n",
       "286556               1  441.0,405.0,0.775510204082,0.0294784580499,0.0...   \n",
       "286557               1  2226.0,1855.0,0.786163522013,0.00224618149146,...   \n",
       "286558               1  1100.0,909.0,0.778181818182,0.00181818181818,0...   \n",
       "286559               1  1876.0,1567.0,0.78144989339,0.00692963752665,0...   \n",
       "286560               1  1129.0,975.0,0.795394154119,0.0150575730735,0....   \n",
       "\n",
       "        year        date  month  day  \n",
       "0       2013  2013-12-31     12   31  \n",
       "1       2013  2013-12-31     12   31  \n",
       "2       2014  2014-01-01      1    1  \n",
       "3       2013  2013-12-31     12   31  \n",
       "4       2014  2014-01-01      1    1  \n",
       "...      ...         ...    ...  ...  \n",
       "286556  2017  2017-04-30      4   30  \n",
       "286557  2017  2017-04-30      4   30  \n",
       "286558  2017  2017-04-30      4   30  \n",
       "286559  2017  2017-04-30      4   30  \n",
       "286560  2017  2017-04-30      4   30  \n",
       "\n",
       "[286561 rows x 10 columns]"
      ]
     },
     "execution_count": 45,
     "metadata": {},
     "output_type": "execute_result"
    }
   ],
   "source": [
    "df_body"
   ]
  },
  {
   "cell_type": "code",
   "execution_count": 16,
   "id": "ffb19cf0",
   "metadata": {},
   "outputs": [],
   "source": [
    "names=['shitamericanssay','american_politics','politics','the_donald','jesuschristreddit','gunnitrust', 'shittrumpsays','usaexposed','wtfdidijustread','guns']"
   ]
  },
  {
   "cell_type": "code",
   "execution_count": 46,
   "id": "e2359c21",
   "metadata": {},
   "outputs": [
    {
     "data": {
      "text/plain": [
       "7"
      ]
     },
     "execution_count": 46,
     "metadata": {},
     "output_type": "execute_result"
    }
   ],
   "source": [
    "year_2013 = df_body[df_body.year == 2013] \n",
    "dec_2013 = year_2013[year_2013.month==12]\n",
    "year_2013_new = dec_2013[dec_2013.day==31]\n",
    "len(year_2013_new)"
   ]
  },
  {
   "cell_type": "code",
   "execution_count": 47,
   "id": "e019d0a4",
   "metadata": {},
   "outputs": [
    {
     "data": {
      "text/plain": [
       "160"
      ]
     },
     "execution_count": 47,
     "metadata": {},
     "output_type": "execute_result"
    }
   ],
   "source": [
    "year_2014 = df_body[df_body.year == 2014] \n",
    "dec_2014 = year_2014[year_2014.month==12]\n",
    "year_2014_new = dec_2014[dec_2014.day==31]\n",
    "len(year_2014_new)"
   ]
  },
  {
   "cell_type": "code",
   "execution_count": 48,
   "id": "e3ea02be",
   "metadata": {},
   "outputs": [
    {
     "data": {
      "text/plain": [
       "250"
      ]
     },
     "execution_count": 48,
     "metadata": {},
     "output_type": "execute_result"
    }
   ],
   "source": [
    "year_2015 = df_body[df_body.year == 2015] \n",
    "last_month_2015 = year_2015[year_2015.month==12]\n",
    "year_2015_new = last_month_2015[last_month_2015.day==31]\n",
    "len(year_2015_new)"
   ]
  },
  {
   "cell_type": "code",
   "execution_count": 49,
   "id": "b8c9f78b",
   "metadata": {},
   "outputs": [
    {
     "data": {
      "text/plain": [
       "216"
      ]
     },
     "execution_count": 49,
     "metadata": {},
     "output_type": "execute_result"
    }
   ],
   "source": [
    "year_2016 = df_body[df_body.year == 2016] \n",
    "last_month_2016 = year_2016[year_2016.month==12]\n",
    "year_2016_new = last_month_2016[last_month_2016.day==31]\n",
    "len(year_2016_new)"
   ]
  },
  {
   "cell_type": "code",
   "execution_count": 50,
   "id": "6f7958f3",
   "metadata": {},
   "outputs": [],
   "source": [
    "years_len = [len(year_2013_new),len(year_2014_new),len(year_2015_new),len(year_2016_new)]\n",
    "years = ['2013','2014','2015','2016']"
   ]
  },
  {
   "cell_type": "code",
   "execution_count": 51,
   "id": "b8efe710",
   "metadata": {},
   "outputs": [
    {
     "data": {
      "image/png": "[encoded data removed]",
      "text/plain": [
       "<Figure size 432x288 with 1 Axes>"
      ]
     },
     "metadata": {},
     "output_type": "display_data"
    }
   ],
   "source": [
    "colors = [\"blue\", \"red\", \"green\", \"yellow\"]\n",
    "plt.pie(years_len, colors=colors, labels=years, startangle=0, autopct='%.1f%%')\n",
    "plt.axis('equal')\n",
    "plt.legend(years ,title=\"New Year Eve subreddits variation over the year 2013-2016\", bbox_to_anchor=(1.8,0.6),loc='right', bbox_transform=plt.gcf().transFigure)\n",
    "plt.show()"
   ]
  },
  {
   "cell_type": "code",
   "execution_count": 52,
   "id": "03941479",
   "metadata": {},
   "outputs": [],
   "source": [
    "df_title['year'] = pd.DatetimeIndex(df_title['TIMESTAMP']).year\n",
    "df_title['date']=pd.to_datetime(df_title['TIMESTAMP']).dt.date\n",
    "df_title['month']=pd.to_datetime(df_title.TIMESTAMP,format='%Y-%m-%d %H:%M:%S').dt.month\n",
    "df_title['day']=pd.to_datetime(df_title.TIMESTAMP,format='%Y-%m-%d %H:%M:%S').dt.day"
   ]
  },
  {
   "cell_type": "code",
   "execution_count": 53,
   "id": "32f90f4a",
   "metadata": {},
   "outputs": [
    {
     "data": {
      "text/plain": [
       "27"
      ]
     },
     "execution_count": 53,
     "metadata": {},
     "output_type": "execute_result"
    }
   ],
   "source": [
    "year_2013_title = df_title[df_title.year == 2013] \n",
    "dec_2013_title = year_2013_title[year_2013_title.month==12]\n",
    "year_2013_title = dec_2013_title[dec_2013_title.day==31]\n",
    "len(year_2013_title)"
   ]
  },
  {
   "cell_type": "code",
   "execution_count": 54,
   "id": "8b87f423",
   "metadata": {},
   "outputs": [
    {
     "data": {
      "text/plain": [
       "343"
      ]
     },
     "execution_count": 54,
     "metadata": {},
     "output_type": "execute_result"
    }
   ],
   "source": [
    "year_2014_title = df_title[df_title.year == 2014] \n",
    "dec_2014_title = year_2014_title[year_2014_title.month==12]\n",
    "year_2014_title = dec_2014_title[dec_2014_title.day==31]\n",
    "len(year_2014_title)"
   ]
  },
  {
   "cell_type": "code",
   "execution_count": 55,
   "id": "8da6e2db",
   "metadata": {},
   "outputs": [
    {
     "data": {
      "text/plain": [
       "425"
      ]
     },
     "execution_count": 55,
     "metadata": {},
     "output_type": "execute_result"
    }
   ],
   "source": [
    "year_2015_title = df_title[df_title.year == 2015] \n",
    "dec_2015_title = year_2015_title[year_2015_title.month==12]\n",
    "year_2015_title = dec_2015_title[dec_2015_title.day==31]\n",
    "len(year_2015_title)"
   ]
  },
  {
   "cell_type": "code",
   "execution_count": 56,
   "id": "e5dc9419",
   "metadata": {},
   "outputs": [
    {
     "data": {
      "text/plain": [
       "515"
      ]
     },
     "execution_count": 56,
     "metadata": {},
     "output_type": "execute_result"
    }
   ],
   "source": [
    "year_2016_title = df_title[df_title.year == 2016] \n",
    "dec_2016_title = year_2016_title[year_2016_title.month==12]\n",
    "year_2016_title = dec_2016_title[dec_2016_title.day==31]\n",
    "len(year_2016_title) "
   ]
  },
  {
   "cell_type": "code",
   "execution_count": 57,
   "id": "78306d35",
   "metadata": {},
   "outputs": [],
   "source": [
    "years_len_title = [len(year_2013_title),len(year_2014_title),len(year_2015_title),len(year_2016_title)]\n"
   ]
  },
  {
   "cell_type": "code",
   "execution_count": null,
   "id": "48ce0dd4",
   "metadata": {},
   "outputs": [],
   "source": []
  },
  {
   "cell_type": "code",
   "execution_count": 58,
   "id": "4d501f38",
   "metadata": {
    "scrolled": false
   },
   "outputs": [
    {
     "data": {
      "image/png": "[encoded data removed]",
      "text/plain": [
       "<Figure size 1080x360 with 1 Axes>"
      ]
     },
     "metadata": {
      "needs_background": "light"
     },
     "output_type": "display_data"
    }
   ],
   "source": [
    "fig, ax1 = plt.subplots(figsize=(15,5))\n",
    "ax1.plot(years,years_len, \"r-o\",linestyle='dashed', label = 'body')\n",
    "ax1.plot(years,years_len_title, \"b-o\",linestyle='dashed', label = 'title')\n",
    "ax1.set_ylim(0,)\n",
    "ax1.grid(None)\n",
    "ax1.legend(loc=\"upper left\", fontsize = 15)\n",
    "ax1.set_xlabel('Years')\n",
    "ax1.set_ylabel('Number of subreddits');\n",
    "\n",
    "plt.title('Variation of Subreddits over the years')\n",
    "plt.show()"
   ]
  }
 ],
 "metadata": {
  "kernelspec": {
   "display_name": "Python 3",
   "language": "python",
   "name": "python3"
  },
  "language_info": {
   "codemirror_mode": {
    "name": "ipython",
    "version": 3
   },
   "file_extension": ".py",
   "mimetype": "text/x-python",
   "name": "python",
   "nbconvert_exporter": "python",
   "pygments_lexer": "ipython3",
   "version": "3.8.8"
  }
 },
 "nbformat": 4,
 "nbformat_minor": 5
}
