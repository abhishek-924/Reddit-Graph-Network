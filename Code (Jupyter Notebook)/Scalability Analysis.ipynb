{
 "cells": [
  {
   "cell_type": "code",
   "execution_count": null,
   "metadata": {},
   "outputs": [],
   "source": [
    "import pandas as pd\n",
    "import numpy as np \n",
    "from matplotlib import pyplot as plt"
   ]
  },
  {
   "cell_type": "code",
   "execution_count": null,
   "metadata": {},
   "outputs": [],
   "source": [
    "df_body = pd.read_csv('soc-redditHyperlinks-body.tsv', delimiter='\\t')\n",
    "df_body.head()"
   ]
  },
  {
   "cell_type": "code",
   "execution_count": null,
   "metadata": {},
   "outputs": [],
   "source": [
    "df_title = pd.read_csv('soc-redditHyperlinks-title.tsv', delimiter='\\t')\n",
    "df_title.head()\n",
    "print(df_title.shape)"
   ]
  },
  {
   "cell_type": "code",
   "execution_count": null,
   "metadata": {},
   "outputs": [],
   "source": [
    "# Taking 25%\n",
    "count_25=int((25*df_body.shape[0])/100)\n",
    "\n",
    "# Taking 50%\n",
    "count_50=int((50*df_body.shape[0])/100)\n",
    "\n",
    "# Taking 75%\n",
    "count_75=int((75*df_body.shape[0])/100)\n",
    "\n",
    "# Taking 100%\n",
    "count_100=df_body.shape[0]"
   ]
  },
  {
   "cell_type": "code",
   "execution_count": null,
   "metadata": {},
   "outputs": [],
   "source": [
    "print(count_25)\n",
    "print(count_50)\n",
    "print(count_75)\n",
    "print(count_100)"
   ]
  },
  {
   "cell_type": "markdown",
   "metadata": {},
   "source": [
    "# Creation of adjacency matrix and adjacency List"
   ]
  },
  {
   "cell_type": "code",
   "execution_count": null,
   "metadata": {},
   "outputs": [],
   "source": [
    "%%time\n",
    "V = len(Vertices_list)\n",
    "\n",
    "Adj_Mat = np.zeros((V,V),dtype=int)\n",
    "\n",
    "Adj_list = []\n",
    "for s in range(V):\n",
    "    Adj_list.append([])\n",
    "\n",
    "for i in Edges_unique:\n",
    "    a = Vertices_list.index(i[0])\n",
    "    b = Vertices_list.index(i[1])\n",
    "    Adj_Mat[a][b]=1\n",
    "    Adj_list[a].append(i[1])"
   ]
  },
  {
   "cell_type": "code",
   "execution_count": null,
   "metadata": {},
   "outputs": [],
   "source": [
    "from timeit import default_timer as timer\n",
    "read_time=[]\n",
    "\n",
    "\n",
    "# Read 25% data\n",
    "start_25=timer()\n",
    "reddit_25 = pd.read_csv('soc-redditHyperlinks-body.tsv', delimiter='\\t',nrows=count_25)\n",
    "end_25=timer()\n",
    "\n",
    "# Read 50% data\n",
    "start_50=timer()\n",
    "reddit_50 = pd.read_csv('soc-redditHyperlinks-body.tsv', delimiter='\\t',nrows=count_50)\n",
    "end_50=timer()\n",
    "\n",
    "# Read 75% data\n",
    "start_75=timer()\n",
    "reddit_75 = pd.read_csv('soc-redditHyperlinks-body.tsv', delimiter='\\t',nrows=count_75)\n",
    "end_75=timer()\n",
    "\n",
    "# Read 100% data\n",
    "start_100=timer()\n",
    "reddit_100 = pd.read_csv('soc-redditHyperlinks-body.tsv', delimiter='\\t',nrows=count_100)\n",
    "end_100=timer()\n",
    "\n",
    "# Appending execution time\n",
    "read_time.append(end_25-start_25)\n",
    "read_time.append(end_50-start_50)\n",
    "read_time.append(end_75-start_75)\n",
    "read_time.append(end_100-start_100)\n",
    "\n",
    "read_time"
   ]
  },
  {
   "cell_type": "code",
   "execution_count": null,
   "metadata": {},
   "outputs": [],
   "source": [
    "reddit_25.info(memory_usage=\"deep\")"
   ]
  },
  {
   "cell_type": "code",
   "execution_count": null,
   "metadata": {},
   "outputs": [],
   "source": [
    "reddit_50.info(memory_usage=\"deep\")"
   ]
  },
  {
   "cell_type": "code",
   "execution_count": null,
   "metadata": {
    "scrolled": true
   },
   "outputs": [],
   "source": [
    "reddit_75.info(memory_usage=\"deep\")"
   ]
  },
  {
   "cell_type": "code",
   "execution_count": null,
   "metadata": {},
   "outputs": [],
   "source": [
    "reddit_100.info(memory_usage=\"deep\")"
   ]
  },
  {
   "cell_type": "markdown",
   "metadata": {},
   "source": [
    "# Edge List"
   ]
  },
  {
   "cell_type": "code",
   "execution_count": null,
   "metadata": {},
   "outputs": [],
   "source": [
    "\n",
    "\n",
    "\n",
    "from timeit import default_timer as timer\n",
    "edge_time=[]\n",
    "\n",
    "# Edge list for 25% of data\n",
    "start_25=timer()\n",
    "Edges_list = list(zip(reddit_25['SOURCE_SUBREDDIT'],reddit_25['TARGET_SUBREDDIT']))\n",
    "Edges_list.sort()\n",
    "Edges_unique1 = list(dict.fromkeys(Edges_list))\n",
    "end_25=timer()\n",
    "\n",
    "# Edge list for 50% of data\n",
    "start_50=timer()\n",
    "Edges_list = list(zip(reddit_50['SOURCE_SUBREDDIT'],reddit_50['TARGET_SUBREDDIT']))\n",
    "Edges_list.sort()\n",
    "Edges_unique2 = list(dict.fromkeys(Edges_list))\n",
    "end_50=timer()\n",
    "\n",
    "\n",
    "# Edge list for 75% of data\n",
    "start_75=timer()\n",
    "Edges_list = list(zip(reddit_75['SOURCE_SUBREDDIT'],reddit_75['TARGET_SUBREDDIT']))\n",
    "Edges_list.sort()\n",
    "Edges_unique3 = list(dict.fromkeys(Edges_list))\n",
    "end_75=timer()\n",
    "\n",
    "# Edge list for 25% of data\n",
    "start_100=timer()\n",
    "Edges_list = list(zip(reddit_100['SOURCE_SUBREDDIT'],reddit_100['TARGET_SUBREDDIT']))\n",
    "Edges_list.sort()\n",
    "Edges_unique4 = list(dict.fromkeys(Edges_list))\n",
    "end_100=timer()\n",
    "\n",
    "\n",
    "# Appending execution time\n",
    "edge_time.append(end_25-start_25)\n",
    "edge_time.append(end_50-start_50)\n",
    "edge_time.append(end_75-start_75)\n",
    "edge_time.append(end_100-start_100)\n",
    "\n",
    "edge_time"
   ]
  },
  {
   "cell_type": "code",
   "execution_count": null,
   "metadata": {},
   "outputs": [],
   "source": [
    "import sys\n",
    "print(sys.getsizeof(Edges_unique1))\n",
    "print(sys.getsizeof(Edges_unique2))\n",
    "print(sys.getsizeof(Edges_unique3))\n",
    "print(sys.getsizeof(Edges_unique4))\n",
    "\n",
    "#Edges_unique4.info(memory_usage=\"deep\")"
   ]
  },
  {
   "cell_type": "markdown",
   "metadata": {},
   "source": [
    "# Time in adjacency matrix"
   ]
  },
  {
   "cell_type": "code",
   "execution_count": null,
   "metadata": {},
   "outputs": [],
   "source": [
    "mat_time=[0.9,3.3,5,8.8]\n",
    "list_time=[0.3,1.8,2,2.8]"
   ]
  },
  {
   "cell_type": "markdown",
   "metadata": {},
   "source": [
    "# Creation of adjacency matrix and adjacency List"
   ]
  },
  {
   "cell_type": "code",
   "execution_count": null,
   "metadata": {},
   "outputs": [],
   "source": [
    "\n",
    "\n",
    "u_source = reddit_25['SOURCE_SUBREDDIT'].unique().tolist()\n",
    "u_target = reddit_25['TARGET_SUBREDDIT'].unique().tolist()\n",
    "u_source.extend(u_target)\n",
    "Vertices_list = list(dict.fromkeys(u_source))\n",
    "Vertices_list.sort()\n",
    "len(Vertices_list)\n",
    "\n",
    "\n",
    "V = len(Vertices_list)\n",
    "\n",
    "Adj_Mat = np.zeros((V,V),dtype=int)\n",
    "for i in Edges_list:\n",
    "    a = Vertices_list.index(i[0])\n",
    "    b = Vertices_list.index(i[1])\n",
    "    Adj_Mat[a][b]=1\n"
   ]
  },
  {
   "cell_type": "code",
   "execution_count": null,
   "metadata": {},
   "outputs": [],
   "source": [
    "import sys\n",
    "print(sys.getsizeof(Adj_Mat))"
   ]
  },
  {
   "cell_type": "code",
   "execution_count": null,
   "metadata": {},
   "outputs": [],
   "source": [
    "%%time\n",
    "\n",
    "Adj_list = []\n",
    "for s in range(V):\n",
    "    Adj_list.append([])\n",
    "\n",
    "for i in Edges_list:\n",
    "    a = Vertices_list.index(i[0])\n",
    "    b = Vertices_list.index(i[1])\n",
    "#     Adj_Mat[a][b]=1\n",
    "    Adj_list[a].append(i[1])\n"
   ]
  },
  {
   "cell_type": "markdown",
   "metadata": {},
   "source": [
    "# Read SQL"
   ]
  },
  {
   "cell_type": "code",
   "execution_count": null,
   "metadata": {},
   "outputs": [],
   "source": [
    "reddit_database = pd.read_csv('soc-redditHyperlinks-body.tsv', delimiter='\\t')\n",
    "\n",
    "\n",
    "import sqlite3\n",
    "conn = sqlite3.connect('reddit_database')\n",
    "c = conn.cursor()\n",
    "c.execute('CREATE TABLE IF NOT EXISTS reddit_database (Table_Index_Key)')\n",
    "conn.commit() \n",
    "\n",
    "\n",
    "sql_insert_execution_time=[]\n",
    "\n",
    "reddit_database[:count_25].to_sql('reddit_database', conn, if_exists='replace', index = False)\n",
    "\n",
    "# Inserting 25% of data\n",
    "sql_insert_start_25=timer()\n",
    "for i in range(count_25):\n",
    "    values = tuple(reddit_database.iloc[i])\n",
    "    c.execute(\"insert into reddit_database values (?,?,?,?,?,?)\", values)\n",
    "sql_insert_end_25=timer()\n",
    "\n",
    "# Inserting 50% of data\n",
    "sql_insert_start_50=timer()\n",
    "for i in range(count_50):\n",
    "    values = tuple(reddit_database.iloc[i])\n",
    "    c.execute(\"insert into reddit_database values (?,?,?,?,?,?)\", values)\n",
    "sql_insert_end_50=timer()\n",
    "\n",
    "\n",
    "# Inserting 75% of data\n",
    "sql_insert_start_75=timer()\n",
    "for i in range(count_75):\n",
    "    values = tuple(reddit_database.iloc[i])\n",
    "    c.execute(\"insert into reddit_database values (?,?,?,?,?,?)\", values)\n",
    "sql_insert_end_75=timer()\n",
    "\n",
    "\n",
    "# Inserting 100% of data\n",
    "sql_insert_start_100=timer()\n",
    "for i in range(count_100):\n",
    "    values = tuple(reddit_database.iloc[i])\n",
    "    c.execute(\"insert into reddit_database values (?,?,?,?,?,?)\", values)\n",
    "sql_insert_end_100=timer()\n",
    "\n",
    "\n",
    "# Appending execution time\n",
    "sql_insert_execution_time.append(sql_insert_end_25-sql_insert_start_25)\n",
    "sql_insert_execution_time.append(sql_insert_end_50-sql_insert_start_50)\n",
    "sql_insert_execution_time.append(sql_insert_end_75-sql_insert_start_75)\n",
    "sql_insert_execution_time.append(sql_insert_end_100-sql_insert_start_100)\n",
    "\n",
    "sql_insert_execution_time"
   ]
  },
  {
   "cell_type": "markdown",
   "metadata": {},
   "source": [
    "# Graph for Reading Graphical data"
   ]
  },
  {
   "cell_type": "code",
   "execution_count": null,
   "metadata": {},
   "outputs": [],
   "source": [
    "# neo_insert_execution_time=[0.17,0.8,1.2,6]\n",
    "# read_time=[0.701613899, 3.6340999000003649, 4.3054535000001124, 7.213748399999986]"
   ]
  },
  {
   "cell_type": "code",
   "execution_count": null,
   "metadata": {},
   "outputs": [],
   "source": [
    "from matplotlib.pyplot import figure\n",
    "import matplotlib.pyplot as plt\n",
    "import matplotlib.colors as colors\n",
    "count_percent=[25,50,75,100]\n",
    "figure(figsize=(15,7))\n",
    "plt.plot(count_percent,read_time, label = \"Pandas DataFrame\", linewidth = '2.5', color='blue', linestyle='--', marker='^', markerfacecolor='red', markersize=8)\n",
    "\n",
    "plt.plot(count_percent,neo_insert_execution_time, label = \"Neo4j\", linewidth = '2.5', color='green', linestyle='-', marker='o', markerfacecolor='blue', markersize=8)\n",
    "\n",
    "plt.plot(count_percent,sql_insert_execution_time, label = \" SQL\", linewidth = '2.5',color='red', linestyle='-.', marker='>', markerfacecolor='black', markersize=8)\n",
    "\n",
    "plt.plot(count_percent,edge_time, label = \"Edge List\", linewidth = '2.5',color='orange', linestyle='--', marker='>', markerfacecolor='black', markersize=8)\n",
    "\n",
    "plt.plot(count_percent,mat_time, label = \"Adjacency Matrix\", linewidth = '2.5',color='black', linestyle='--', marker='>', markerfacecolor='black', markersize=8)\n",
    "\n",
    "plt.plot(count_percent,list_time, label = \"Adjacency List\", linewidth = '2.5',color='cyan', linestyle='-.', marker='>', markerfacecolor='black', markersize=8)\n",
    "\n",
    "plt.title(\"Time Complexity of dataset creation for different record size\")\n",
    "plt.xlabel(\"Record Size (in %)\",fontsize=15)  \n",
    "plt.ylabel(\"Execution Time (In seconds)\",fontsize=15)\n",
    "plt.legend()\n",
    "plt.show()"
   ]
  },
  {
   "cell_type": "code",
   "execution_count": null,
   "metadata": {},
   "outputs": [],
   "source": [
    "Adj_Mat\n"
   ]
  },
  {
   "cell_type": "code",
   "execution_count": null,
   "metadata": {},
   "outputs": [],
   "source": [
    "from matplotlib.pyplot import figure\n",
    "import matplotlib.pyplot as plt\n",
    "import matplotlib.colors as colors\n",
    "count_percent=[25,50,75,100]\n",
    "figure(figsize=(15,7))\n",
    "\n",
    "# read_time=[0.7,0.92,1.77, 3.4]\n",
    "# sql_insert_execution_time=[0.03, 0.2, 0.8, 1.5]\n",
    "# neo_insert_execution_time = [0.08,0.3,0.9,2]\n",
    "# mat_time = [1.1,1.6,1.78,1.98]\n",
    "# edge_time = [0.6,0.8,1,1.9]\n",
    "# list_time=[0.8,1.3,1.7,2.3]\n",
    "\n",
    "plt.plot(count_percent,read_time, label = \"Pandas DataFrame\", linewidth = '2.5', color='blue', linestyle='--', marker='^', markerfacecolor='red', markersize=8)\n",
    "\n",
    "plt.plot(count_percent,neo_insert_execution_time, label = \"Neo4j\", linewidth = '2.5', color='green', linestyle='-', marker='o', markerfacecolor='blue', markersize=8)\n",
    "\n",
    "plt.plot(count_percent,sql_insert_execution_time, label = \" SQL\", linewidth = '2.5',color='red', linestyle='-.', marker='>', markerfacecolor='black', markersize=8)\n",
    "\n",
    "plt.plot(count_percent,edge_time, label = \"Edge List\", linewidth = '2.5',color='orange', linestyle='--', marker='>', markerfacecolor='black', markersize=8)\n",
    "\n",
    "plt.plot(count_percent,mat_time, label = \"Adjacency Matrix\", linewidth = '2.5',color='black', linestyle='--', marker='>', markerfacecolor='black', markersize=8)\n",
    "\n",
    "plt.plot(count_percent,list_time, label = \"Adjacency List\", linewidth = '2.5',color='cyan', linestyle='-.', marker='>', markerfacecolor='black', markersize=8)\n",
    "\n",
    "plt.title(\"Time Complexity of Data Fetching for different record size\")\n",
    "plt.xlabel(\"Record Size (in %)\",fontsize=15)  \n",
    "plt.ylabel(\"Execution Time (In seconds)\",fontsize=15)\n",
    "plt.legend()\n",
    "plt.show()"
   ]
  },
  {
   "cell_type": "code",
   "execution_count": null,
   "metadata": {},
   "outputs": [],
   "source": []
  }
 ],
 "metadata": {
  "kernelspec": {
   "display_name": "Python 3",
   "language": "python",
   "name": "python3"
  },
  "language_info": {
   "codemirror_mode": {
    "name": "ipython",
    "version": 3
   },
   "file_extension": ".py",
   "mimetype": "text/x-python",
   "name": "python",
   "nbconvert_exporter": "python",
   "pygments_lexer": "ipython3",
   "version": "3.7.4"
  }
 },
 "nbformat": 4,
 "nbformat_minor": 2
}
